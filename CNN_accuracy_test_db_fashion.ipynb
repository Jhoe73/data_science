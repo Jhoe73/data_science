{
  "cells": [
    {
      "cell_type": "code",
      "execution_count": null,
      "metadata": {
        "id": "55mHEidxkOa8"
      },
      "outputs": [],
      "source": [
        "import numpy as np\n",
        "import pandas as pd\n",
        "import matplotlib.pyplot as plt\n",
        "import tensorflow as tf\n",
        "from tensorflow import random\n",
        "from tensorflow import keras\n",
        "from keras.datasets import fashion_mnist"
      ]
    },
    {
      "cell_type": "code",
      "execution_count": null,
      "metadata": {
        "id": "PlwTeH9OHh__",
        "colab": {
          "base_uri": "https://localhost:8080/"
        },
        "outputId": "b1220850-9a99-4222-e500-92c325df30ac"
      },
      "outputs": [
        {
          "output_type": "stream",
          "name": "stdout",
          "text": [
            "Downloading data from https://storage.googleapis.com/tensorflow/tf-keras-datasets/train-labels-idx1-ubyte.gz\n",
            "29515/29515 [==============================] - 0s 1us/step\n",
            "Downloading data from https://storage.googleapis.com/tensorflow/tf-keras-datasets/train-images-idx3-ubyte.gz\n",
            "26421880/26421880 [==============================] - 2s 0us/step\n",
            "Downloading data from https://storage.googleapis.com/tensorflow/tf-keras-datasets/t10k-labels-idx1-ubyte.gz\n",
            "5148/5148 [==============================] - 0s 0us/step\n",
            "Downloading data from https://storage.googleapis.com/tensorflow/tf-keras-datasets/t10k-images-idx3-ubyte.gz\n",
            "4422102/4422102 [==============================] - 1s 0us/step\n"
          ]
        }
      ],
      "source": [
        "# carregando datasets do keras\n",
        "#from tensorflow.keras.datasets import mnist\n",
        "(x_train, y_train), (x_test, y_test) = fashion_mnist.load_data()"
      ]
    },
    {
      "cell_type": "code",
      "execution_count": null,
      "metadata": {
        "colab": {
          "base_uri": "https://localhost:8080/"
        },
        "id": "l6gMd_77ooBf",
        "outputId": "9cbc5fcf-39a8-48af-c9fc-52052196ecda"
      },
      "outputs": [
        {
          "output_type": "stream",
          "name": "stdout",
          "text": [
            "(60000, 28, 28)\n",
            "Classes:  10\n"
          ]
        }
      ],
      "source": [
        "# obtendo informações das imagens (resolucao) e dos rótulos (número de classes)\n",
        "img_lin, img_col = x_train.shape[1], x_train.shape[2]\n",
        "num_classes = len(np.unique(y_train))\n",
        "print(x_train.shape)\n",
        "print('Classes: ', num_classes)"
      ]
    },
    {
      "cell_type": "markdown",
      "metadata": {
        "id": "odVxTvCzJScK"
      },
      "source": [
        "Temos portando 60 mil exemplos de treinamento\n",
        "\n",
        "Imagens de tamanho $28\\times 28$ e 10 classes.\n",
        "\n",
        "Agora, o passo ideal é pré-processar as imagens para facilitar o processo de otimização das redes neurais:\n",
        "\n",
        "1. Normalizar seus valores (para o intervalo 0-1)\n",
        "2. Alterar a codificação das classes (para one-hot-encoding): teremos 10 neurônios na saída, não apenas 1"
      ]
    },
    {
      "cell_type": "code",
      "execution_count": null,
      "metadata": {
        "colab": {
          "base_uri": "https://localhost:8080/"
        },
        "id": "hBK8g6Xf29dI",
        "outputId": "c95e14ea-a0ca-4c36-a2f8-07286efc5e49"
      },
      "outputs": [
        {
          "output_type": "stream",
          "name": "stdout",
          "text": [
            "Antes da transformação:  9\n",
            "Após transformação:  [0. 0. 0. 0. 0. 0. 0. 0. 0. 1.]\n"
          ]
        }
      ],
      "source": [
        "# dividir por 255 para obter normalizacao\n",
        "x_train = x_train.astype('float32') / 255.0\n",
        "x_test = x_test.astype('float32') / 255.0\n",
        "\n",
        "print(\"Antes da transformação: \", y_train[0])\n",
        "# transformar categorias em one-hot-encoding\n",
        "y_train = keras.utils.to_categorical(y_train, num_classes)\n",
        "y_test = keras.utils.to_categorical(y_test, num_classes)\n",
        "\n",
        "print(\"Após transformação: \", y_train[0])"
      ]
    },
    {
      "cell_type": "markdown",
      "metadata": {
        "id": "jOnOa3KhoyPM"
      },
      "source": [
        "Por fim, vamos padronizar o formato de entrada em termos das dimensões (shape) do numpy array de entrada.\n",
        "\n",
        "Isso vai permitir que o mesmo código utilize diferentes bases de dados, com um ou mais canais de cor"
      ]
    },
    {
      "cell_type": "code",
      "execution_count": null,
      "metadata": {
        "colab": {
          "base_uri": "https://localhost:8080/"
        },
        "id": "cOdIcO_Bmc0o",
        "outputId": "15b319fd-8292-4005-a8ce-b7ef5849f426"
      },
      "outputs": [
        {
          "output_type": "stream",
          "name": "stdout",
          "text": [
            "Shape:  (28, 28, 1)\n"
          ]
        }
      ],
      "source": [
        "# verifica imagens da base de dados tem 3 canais (RGB) ou apenas 1 (escala de cinza)\n",
        "if (len(x_train.shape) == 3):\n",
        "      n_channels = 1\n",
        "else:\n",
        "      n_channels = x_train.shape[3]\n",
        "\n",
        "# re-formata o array de forma a encontrar o formato da entrada (input_shape)\n",
        "# se a dimensão dos canais vem primeiro ou após a imagem\n",
        "if keras.backend.image_data_format() == 'channels_first':\n",
        "    x_train = x_train.reshape(x_train.shape[0], n_channels, img_lin, img_col)\n",
        "    x_test = x_test.reshape(x_test.shape[0], n_channels, img_lin, img_col)\n",
        "    input_shape = (n_channels, img_lin, img_col)\n",
        "else:\n",
        "    x_train = x_train.reshape(x_train.shape[0], img_lin, img_col, n_channels)\n",
        "    x_test = x_test.reshape(x_test.shape[0], img_lin, img_col, n_channels)\n",
        "    input_shape = (img_lin, img_col, n_channels)\n",
        "\n",
        "print(\"Shape: \", input_shape)"
      ]
    },
    {
      "cell_type": "markdown",
      "metadata": {
        "id": "tqfg5g1Ro2sY"
      },
      "source": [
        "### Tudo pronto, agora vamos começar\n"
      ]
    },
    {
      "cell_type": "code",
      "execution_count": null,
      "metadata": {
        "id": "y4hErsLaa2bo"
      },
      "outputs": [],
      "source": [
        "def my_cnn():\n",
        "    CNN = keras.Sequential()\n",
        "    CNN.add(keras.layers.Conv2D(32, kernel_size=(3,3), strides=(1,1), padding='same', activation='relu', input_shape=input_shape))\n",
        "    CNN.add(keras.layers.MaxPooling2D(pool_size=(2,2), strides=(2,2)))\n",
        "    CNN.add(keras.layers.Conv2D(64, kernel_size=(3,3), strides=(2,2), padding='same', activation='relu'))\n",
        "    CNN.add(keras.layers.Conv2D(128, kernel_size=(3,3), strides=(1,1), padding='same', activation='relu'))\n",
        "    CNN.add(keras.layers.GlobalAveragePooling2D())\n",
        "    CNN.add(keras.layers.Dense(64, activation='relu'))\n",
        "    CNN.add(keras.layers.Dropout(0.25))\n",
        "    CNN.add(keras.layers.Dense(10, activation='softmax'))\n",
        "\n",
        "    return CNN"
      ]
    },
    {
      "cell_type": "markdown",
      "metadata": {
        "id": "SGkW0mbxZGnR"
      },
      "source": [
        "Definindo sementes e um subconjunto menor para testarmos\n"
      ]
    },
    {
      "cell_type": "code",
      "execution_count": null,
      "metadata": {
        "id": "MvusEAx0oZbw"
      },
      "outputs": [],
      "source": [
        "# as sementes ajudam a ter resultados reproduzíveis\n",
        "from numpy.random import seed\n",
        "seed(1)\n",
        "random.set_seed(2)\n",
        "\n",
        "x_train_subset = x_train[:12000]\n",
        "y_train_subset = y_train[:12000]\n",
        "x_val_subset = x_test[:8000]\n",
        "y_val_subset = y_test[:8000]\n",
        "batch_size = 20\n",
        "epochs = 10"
      ]
    },
    {
      "cell_type": "markdown",
      "metadata": {
        "id": "W7VOgujapRcS"
      },
      "source": [
        "### 1) Modelo convencional com parâmetros padrão (learning rate fixo)"
      ]
    },
    {
      "cell_type": "code",
      "execution_count": null,
      "metadata": {
        "id": "mSiGp2usZEYG"
      },
      "outputs": [],
      "source": [
        "CNN1 = my_cnn()\n",
        "CNN1.compile(loss='categorical_crossentropy',\n",
        "              optimizer=keras.optimizers.Adam(learning_rate=0.005),\n",
        "              metrics=['accuracy'])"
      ]
    },
    {
      "cell_type": "markdown",
      "metadata": {
        "id": "DLPFgj-EzVVB"
      },
      "source": []
    },
    {
      "cell_type": "code",
      "execution_count": null,
      "metadata": {
        "colab": {
          "base_uri": "https://localhost:8080/"
        },
        "id": "n28cZu1JucD_",
        "outputId": "7e06b765-9fb4-4360-c55c-a3b4ad4c5f26"
      },
      "outputs": [
        {
          "output_type": "stream",
          "name": "stdout",
          "text": [
            "Epoch 1/10\n",
            "600/600 [==============================] - 18s 6ms/step - loss: 1.0922 - accuracy: 0.5791 - val_loss: 0.7361 - val_accuracy: 0.7151\n",
            "Epoch 2/10\n",
            "600/600 [==============================] - 3s 5ms/step - loss: 0.7060 - accuracy: 0.7341 - val_loss: 0.5552 - val_accuracy: 0.8006\n",
            "Epoch 3/10\n",
            "600/600 [==============================] - 4s 7ms/step - loss: 0.5717 - accuracy: 0.7925 - val_loss: 0.4917 - val_accuracy: 0.8219\n",
            "Epoch 4/10\n",
            "600/600 [==============================] - 4s 6ms/step - loss: 0.4941 - accuracy: 0.8199 - val_loss: 0.4692 - val_accuracy: 0.8324\n",
            "Epoch 5/10\n",
            "600/600 [==============================] - 4s 6ms/step - loss: 0.4553 - accuracy: 0.8347 - val_loss: 0.5457 - val_accuracy: 0.8105\n",
            "Epoch 6/10\n",
            "600/600 [==============================] - 3s 6ms/step - loss: 0.4118 - accuracy: 0.8528 - val_loss: 0.4429 - val_accuracy: 0.8416\n",
            "Epoch 7/10\n",
            "600/600 [==============================] - 4s 7ms/step - loss: 0.3884 - accuracy: 0.8579 - val_loss: 0.4102 - val_accuracy: 0.8562\n",
            "Epoch 8/10\n",
            "600/600 [==============================] - 3s 5ms/step - loss: 0.3636 - accuracy: 0.8686 - val_loss: 0.3736 - val_accuracy: 0.8676\n",
            "Epoch 9/10\n",
            "600/600 [==============================] - 3s 5ms/step - loss: 0.3348 - accuracy: 0.8784 - val_loss: 0.4099 - val_accuracy: 0.8610\n",
            "Epoch 10/10\n",
            "600/600 [==============================] - 3s 6ms/step - loss: 0.3163 - accuracy: 0.8826 - val_loss: 0.3826 - val_accuracy: 0.8669\n",
            "Epoch 1/10\n",
            "600/600 [==============================] - 4s 6ms/step - loss: 0.3002 - accuracy: 0.8890 - val_loss: 0.3961 - val_accuracy: 0.8668\n",
            "Epoch 2/10\n",
            "600/600 [==============================] - 4s 6ms/step - loss: 0.2815 - accuracy: 0.8966 - val_loss: 0.3821 - val_accuracy: 0.8712\n",
            "Epoch 3/10\n",
            "600/600 [==============================] - 3s 5ms/step - loss: 0.2814 - accuracy: 0.8962 - val_loss: 0.3822 - val_accuracy: 0.8692\n",
            "Epoch 4/10\n",
            "600/600 [==============================] - 4s 6ms/step - loss: 0.2487 - accuracy: 0.9080 - val_loss: 0.3968 - val_accuracy: 0.8712\n",
            "Epoch 5/10\n",
            "600/600 [==============================] - 3s 6ms/step - loss: 0.2396 - accuracy: 0.9111 - val_loss: 0.4019 - val_accuracy: 0.8750\n",
            "Epoch 6/10\n",
            "600/600 [==============================] - 4s 6ms/step - loss: 0.2270 - accuracy: 0.9120 - val_loss: 0.4136 - val_accuracy: 0.8715\n",
            "Epoch 7/10\n",
            "600/600 [==============================] - 3s 5ms/step - loss: 0.2218 - accuracy: 0.9185 - val_loss: 0.4138 - val_accuracy: 0.8767\n",
            "Epoch 8/10\n",
            "600/600 [==============================] - 4s 7ms/step - loss: 0.2013 - accuracy: 0.9220 - val_loss: 0.4056 - val_accuracy: 0.8719\n",
            "Epoch 9/10\n",
            "600/600 [==============================] - 3s 5ms/step - loss: 0.2004 - accuracy: 0.9261 - val_loss: 0.4303 - val_accuracy: 0.8759\n",
            "Epoch 10/10\n",
            "600/600 [==============================] - 3s 5ms/step - loss: 0.1862 - accuracy: 0.9283 - val_loss: 0.4585 - val_accuracy: 0.8774\n",
            "Epoch 1/10\n",
            "600/600 [==============================] - 4s 7ms/step - loss: 0.1752 - accuracy: 0.9337 - val_loss: 0.4688 - val_accuracy: 0.8652\n",
            "Epoch 2/10\n",
            "600/600 [==============================] - 4s 6ms/step - loss: 0.1737 - accuracy: 0.9342 - val_loss: 0.4695 - val_accuracy: 0.8734\n",
            "Epoch 3/10\n",
            "600/600 [==============================] - 3s 5ms/step - loss: 0.1506 - accuracy: 0.9412 - val_loss: 0.4519 - val_accuracy: 0.8763\n",
            "Epoch 4/10\n",
            "600/600 [==============================] - 5s 8ms/step - loss: 0.1661 - accuracy: 0.9378 - val_loss: 0.4586 - val_accuracy: 0.8754\n",
            "Epoch 5/10\n",
            "600/600 [==============================] - 4s 7ms/step - loss: 0.1458 - accuracy: 0.9427 - val_loss: 0.5382 - val_accuracy: 0.8720\n",
            "Epoch 6/10\n",
            "600/600 [==============================] - 3s 5ms/step - loss: 0.1383 - accuracy: 0.9459 - val_loss: 0.5464 - val_accuracy: 0.8773\n",
            "Epoch 7/10\n",
            "600/600 [==============================] - 4s 7ms/step - loss: 0.1329 - accuracy: 0.9495 - val_loss: 0.5627 - val_accuracy: 0.8752\n",
            "Epoch 8/10\n",
            "600/600 [==============================] - 3s 6ms/step - loss: 0.1354 - accuracy: 0.9485 - val_loss: 0.5111 - val_accuracy: 0.8727\n",
            "Epoch 9/10\n",
            "600/600 [==============================] - 3s 5ms/step - loss: 0.1384 - accuracy: 0.9473 - val_loss: 0.5780 - val_accuracy: 0.8712\n",
            "Epoch 10/10\n",
            "600/600 [==============================] - 4s 6ms/step - loss: 0.1293 - accuracy: 0.9502 - val_loss: 0.5778 - val_accuracy: 0.8771\n",
            "Epoch 1/10\n",
            "600/600 [==============================] - 4s 6ms/step - loss: 0.1151 - accuracy: 0.9555 - val_loss: 0.5781 - val_accuracy: 0.8779\n",
            "Epoch 2/10\n",
            "600/600 [==============================] - 3s 5ms/step - loss: 0.1152 - accuracy: 0.9571 - val_loss: 0.6435 - val_accuracy: 0.8684\n",
            "Epoch 3/10\n",
            "600/600 [==============================] - 4s 6ms/step - loss: 0.1155 - accuracy: 0.9557 - val_loss: 0.6626 - val_accuracy: 0.8650\n",
            "Epoch 4/10\n",
            "600/600 [==============================] - 5s 8ms/step - loss: 0.1098 - accuracy: 0.9578 - val_loss: 0.6664 - val_accuracy: 0.8765\n",
            "Epoch 5/10\n",
            "600/600 [==============================] - 3s 5ms/step - loss: 0.0994 - accuracy: 0.9631 - val_loss: 0.6398 - val_accuracy: 0.8799\n",
            "Epoch 6/10\n",
            "600/600 [==============================] - 3s 5ms/step - loss: 0.1060 - accuracy: 0.9619 - val_loss: 0.6594 - val_accuracy: 0.8712\n",
            "Epoch 7/10\n",
            "600/600 [==============================] - 5s 9ms/step - loss: 0.1105 - accuracy: 0.9566 - val_loss: 0.6743 - val_accuracy: 0.8740\n",
            "Epoch 8/10\n",
            "600/600 [==============================] - 3s 6ms/step - loss: 0.0903 - accuracy: 0.9653 - val_loss: 0.6643 - val_accuracy: 0.8741\n",
            "Epoch 9/10\n",
            "600/600 [==============================] - 4s 6ms/step - loss: 0.1099 - accuracy: 0.9602 - val_loss: 0.6555 - val_accuracy: 0.8730\n",
            "Epoch 10/10\n",
            "600/600 [==============================] - 3s 5ms/step - loss: 0.1023 - accuracy: 0.9625 - val_loss: 0.7206 - val_accuracy: 0.8748\n",
            "Epoch 1/10\n",
            "600/600 [==============================] - 3s 5ms/step - loss: 0.0924 - accuracy: 0.9665 - val_loss: 0.7493 - val_accuracy: 0.8695\n",
            "Epoch 2/10\n",
            "600/600 [==============================] - 4s 6ms/step - loss: 0.0937 - accuracy: 0.9664 - val_loss: 0.7605 - val_accuracy: 0.8737\n",
            "Epoch 3/10\n",
            "600/600 [==============================] - 4s 7ms/step - loss: 0.0923 - accuracy: 0.9666 - val_loss: 0.7243 - val_accuracy: 0.8763\n",
            "Epoch 4/10\n",
            "600/600 [==============================] - 3s 5ms/step - loss: 0.0809 - accuracy: 0.9699 - val_loss: 0.8152 - val_accuracy: 0.8692\n",
            "Epoch 5/10\n",
            "600/600 [==============================] - 4s 6ms/step - loss: 0.0791 - accuracy: 0.9710 - val_loss: 0.7640 - val_accuracy: 0.8766\n",
            "Epoch 6/10\n",
            "600/600 [==============================] - 3s 5ms/step - loss: 0.0834 - accuracy: 0.9679 - val_loss: 0.8667 - val_accuracy: 0.8661\n",
            "Epoch 7/10\n",
            "600/600 [==============================] - 4s 7ms/step - loss: 0.0851 - accuracy: 0.9684 - val_loss: 0.8831 - val_accuracy: 0.8706\n",
            "Epoch 8/10\n",
            "600/600 [==============================] - 4s 6ms/step - loss: 0.0884 - accuracy: 0.9701 - val_loss: 0.8047 - val_accuracy: 0.8711\n",
            "Epoch 9/10\n",
            "600/600 [==============================] - 4s 6ms/step - loss: 0.0748 - accuracy: 0.9733 - val_loss: 0.8690 - val_accuracy: 0.8773\n",
            "Epoch 10/10\n",
            "600/600 [==============================] - 4s 6ms/step - loss: 0.0802 - accuracy: 0.9704 - val_loss: 0.8275 - val_accuracy: 0.8750\n",
            "Acurácia média no conjunto de treinamento: [0.8100666642189026, 0.9107666671276092, 0.9430999875068664, 0.9595666706562043, 0.9690583348274231]\n",
            "Acurácia média no conjunto de validação: [0.8273874998092652, 0.8726874947547912, 0.8735874950885772, 0.8734750032424927, 0.8725499987602234]\n"
          ]
        }
      ],
      "source": [
        "import numpy as np\n",
        "\n",
        "def run_experiment(x_t, y_t, x_v, y_v, batch_size, epochs):\n",
        "  \"\"\"\n",
        "  Realiza o experimento de treinamento e avaliação da rede convolucional\n",
        "\n",
        "  Args:\n",
        "    x_t: Conjunto de treinamento reduzido\n",
        "    y_t: Rótulos do conjunto de treinamento reduzido\n",
        "    x_v: Conjunto de validação\n",
        "    y_v: Rótulos do conjunto de validação\n",
        "    batch_size: Tamanho do lote\n",
        "    epochs: Número de épocas\n",
        "\n",
        "  Returns:\n",
        "    Lista com as acurácias no conjunto de treinamento e validação\n",
        "  \"\"\"\n",
        "\n",
        "  train_mean = []\n",
        "  val_mean = []\n",
        "  for _ in range(5):\n",
        "    hist = CNN1.fit(x_t, y_t,\n",
        "                    batch_size=batch_size,\n",
        "                    epochs=epochs, validation_data=(x_v, y_v))\n",
        "    train_mean.append(np.mean(hist.history[\"accuracy\"]))\n",
        "    val_mean.append(np.mean(hist.history[\"val_accuracy\"]))\n",
        "\n",
        "  return train_mean, val_mean\n",
        "\n",
        "train_mean, val_mean = run_experiment(x_train_subset, y_train_subset, x_val_subset, y_val_subset, batch_size, epochs)\n",
        "\n",
        "print(\"Acurácia média no conjunto de treinamento:\", train_mean)\n",
        "print(\"Acurácia média no conjunto de validação:\", val_mean)"
      ]
    },
    {
      "cell_type": "code",
      "execution_count": null,
      "metadata": {
        "colab": {
          "base_uri": "https://localhost:8080/"
        },
        "id": "j1Yp9jUW2cem",
        "outputId": "9579b1ac-826d-4040-d3b5-e9bd8028e59a"
      },
      "outputs": [
        {
          "output_type": "stream",
          "name": "stdout",
          "text": [
            "Acurácia média enre os conjuntos de treinamento: 0.9185116648674011\n",
            "Acurácia média enre os conjuntos de validação: 0.8639374983310699\n"
          ]
        }
      ],
      "source": [
        "print(\"Acurácia média enre os conjuntos de treinamento:\", np.mean(train_mean))\n",
        "print(\"Acurácia média enre os conjuntos de validação:\", np.mean(val_mean))"
      ]
    }
  ],
  "metadata": {
    "accelerator": "GPU",
    "colab": {
      "gpuType": "T4",
      "provenance": []
    },
    "kernelspec": {
      "display_name": "Python 3",
      "name": "python3"
    },
    "language_info": {
      "codemirror_mode": {
        "name": "ipython",
        "version": 3
      },
      "file_extension": ".py",
      "mimetype": "text/x-python",
      "name": "python",
      "nbconvert_exporter": "python",
      "pygments_lexer": "ipython3",
      "version": "3.9.5"
    }
  },
  "nbformat": 4,
  "nbformat_minor": 0
}