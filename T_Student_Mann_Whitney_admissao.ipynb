{
  "cells": [
    {
      "cell_type": "markdown",
      "metadata": {
        "id": "view-in-github",
        "colab_type": "text"
      },
      "source": [
        "<a href=\"https://colab.research.google.com/github/Jhoe73/data_science/blob/main/T_Student_Mann_Whitney_admissao.ipynb\" target=\"_parent\"><img src=\"https://colab.research.google.com/assets/colab-badge.svg\" alt=\"Open In Colab\"/></a>"
      ]
    },
    {
      "cell_type": "code",
      "execution_count": null,
      "metadata": {
        "id": "LuR9ZMjcTubK",
        "outputId": "ff52acb8-f705-4f67-fa13-0c7b7e336b24"
      },
      "outputs": [
        {
          "data": {
            "text/html": [
              "<div>\n",
              "<style scoped>\n",
              "    .dataframe tbody tr th:only-of-type {\n",
              "        vertical-align: middle;\n",
              "    }\n",
              "\n",
              "    .dataframe tbody tr th {\n",
              "        vertical-align: top;\n",
              "    }\n",
              "\n",
              "    .dataframe thead th {\n",
              "        text-align: right;\n",
              "    }\n",
              "</style>\n",
              "<table border=\"1\" class=\"dataframe\">\n",
              "  <thead>\n",
              "    <tr style=\"text-align: right;\">\n",
              "      <th></th>\n",
              "      <th>admit</th>\n",
              "      <th>gre</th>\n",
              "      <th>gpa</th>\n",
              "      <th>rank</th>\n",
              "    </tr>\n",
              "  </thead>\n",
              "  <tbody>\n",
              "    <tr>\n",
              "      <th>0</th>\n",
              "      <td>0</td>\n",
              "      <td>380</td>\n",
              "      <td>3.61</td>\n",
              "      <td>3</td>\n",
              "    </tr>\n",
              "    <tr>\n",
              "      <th>1</th>\n",
              "      <td>1</td>\n",
              "      <td>660</td>\n",
              "      <td>3.67</td>\n",
              "      <td>3</td>\n",
              "    </tr>\n",
              "    <tr>\n",
              "      <th>2</th>\n",
              "      <td>1</td>\n",
              "      <td>800</td>\n",
              "      <td>4.00</td>\n",
              "      <td>1</td>\n",
              "    </tr>\n",
              "    <tr>\n",
              "      <th>3</th>\n",
              "      <td>1</td>\n",
              "      <td>640</td>\n",
              "      <td>3.19</td>\n",
              "      <td>4</td>\n",
              "    </tr>\n",
              "    <tr>\n",
              "      <th>4</th>\n",
              "      <td>0</td>\n",
              "      <td>520</td>\n",
              "      <td>2.93</td>\n",
              "      <td>4</td>\n",
              "    </tr>\n",
              "  </tbody>\n",
              "</table>\n",
              "</div>"
            ],
            "text/plain": [
              "   admit  gre   gpa  rank\n",
              "0      0  380  3.61     3\n",
              "1      1  660  3.67     3\n",
              "2      1  800  4.00     1\n",
              "3      1  640  3.19     4\n",
              "4      0  520  2.93     4"
            ]
          },
          "execution_count": 3,
          "metadata": {},
          "output_type": "execute_result"
        }
      ],
      "source": [
        "import pandas as pd\n",
        "from scipy.stats import ttest_ind, mannwhitneyu\n",
        "\n",
        "# Carregando o arquivo CSV\n",
        "file_path = 'admissao.csv'\n",
        "admissao_data = pd.read_csv(file_path)\n",
        "\n",
        "# Exibindo as primeiras linhas do arquivo para entender sua estrutura\n",
        "admissao_data.head()"
      ]
    },
    {
      "cell_type": "code",
      "execution_count": null,
      "metadata": {
        "id": "dJ_-xaqKTubN",
        "outputId": "6dc3b1b0-9b08-48a1-f837-75db0a953617"
      },
      "outputs": [
        {
          "data": {
            "text/plain": [
              "(0.0003338868880451353, 0.00013338143123130532)"
            ]
          },
          "execution_count": 4,
          "metadata": {},
          "output_type": "execute_result"
        }
      ],
      "source": [
        "# Separando os dados de GPA para admitidos e não admitidos\n",
        "gpa_admitidos = admissao_data[admissao_data['admit'] == 1]['gpa']\n",
        "gpa_nao_admitidos = admissao_data[admissao_data['admit'] == 0]['gpa']\n",
        "\n",
        "# Realizando o Teste t de Student para variâncias diferentes\n",
        "t_test_result = ttest_ind(gpa_admitidos, gpa_nao_admitidos, equal_var=False)\n",
        "\n",
        "# Realizando o Teste de Mann-Whitney\n",
        "mann_whitney_result = mannwhitneyu(gpa_admitidos, gpa_nao_admitidos)\n",
        "\n",
        "# Verificando os resultados dos testes\n",
        "t_test_result.pvalue, mann_whitney_result.pvalue"
      ]
    },
    {
      "cell_type": "markdown",
      "metadata": {
        "id": "ND84vIJ1TubO"
      },
      "source": [
        "Ambos os p-valores são significativamente menores que 0.05, indicando que a diferença entre as médias de notas (GPA) entre alunos admitidos e não admitidos dos dois grupos é estatisticamente significativa, tanto no Teste t de Student quanto no Teste de Mann-Whitney."
      ]
    }
  ],
  "metadata": {
    "kernelspec": {
      "display_name": "Python 3",
      "language": "python",
      "name": "python3"
    },
    "language_info": {
      "codemirror_mode": {
        "name": "ipython",
        "version": 3
      },
      "file_extension": ".py",
      "mimetype": "text/x-python",
      "name": "python",
      "nbconvert_exporter": "python",
      "pygments_lexer": "ipython3",
      "version": "3.12.0"
    },
    "colab": {
      "provenance": [],
      "include_colab_link": true
    }
  },
  "nbformat": 4,
  "nbformat_minor": 0
}