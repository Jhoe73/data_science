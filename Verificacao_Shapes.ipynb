{
  "nbformat": 4,
  "nbformat_minor": 0,
  "metadata": {
    "colab": {
      "provenance": [],
      "authorship_tag": "ABX9TyNw8kGpWV9R+e70CDIOV3yF",
      "include_colab_link": true
    },
    "kernelspec": {
      "name": "python3",
      "display_name": "Python 3"
    },
    "language_info": {
      "name": "python"
    }
  },
  "cells": [
    {
      "cell_type": "markdown",
      "metadata": {
        "id": "view-in-github",
        "colab_type": "text"
      },
      "source": [
        "<a href=\"https://colab.research.google.com/github/Jhoe73/data_science/blob/main/Verificacao_Shapes.ipynb\" target=\"_parent\"><img src=\"https://colab.research.google.com/assets/colab-badge.svg\" alt=\"Open In Colab\"/></a>"
      ]
    },
    {
      "cell_type": "code",
      "execution_count": 2,
      "metadata": {
        "colab": {
          "base_uri": "https://localhost:8080/"
        },
        "id": "ybyN-y9lkD5W",
        "outputId": "bdbb19d2-003a-4855-e86a-88ee99811231"
      },
      "outputs": [
        {
          "output_type": "stream",
          "name": "stdout",
          "text": [
            "Saída da Camada 2: (None, 64, 64, 16)\n",
            "Saída da Camada 4: (None, 32, 32, 16)\n",
            "Saída da Camada 5: (None, 14, 14, 64)\n",
            "Saída da Camada 7: (None, 64)\n",
            "Model: \"sequential_1\"\n",
            "_________________________________________________________________\n",
            " Layer (type)                Output Shape              Param #   \n",
            "=================================================================\n",
            " conv2d_3 (Conv2D)           (None, 64, 64, 16)        448       \n",
            "                                                                 \n",
            " max_pooling2d_1 (MaxPoolin  (None, 32, 32, 16)        0         \n",
            " g2D)                                                            \n",
            "                                                                 \n",
            " conv2d_4 (Conv2D)           (None, 16, 16, 32)        4640      \n",
            "                                                                 \n",
            " conv2d_5 (Conv2D)           (None, 14, 14, 64)        18496     \n",
            "                                                                 \n",
            " global_average_pooling2d_1  (None, 64)                0         \n",
            "  (GlobalAveragePooling2D)                                       \n",
            "                                                                 \n",
            " dense_2 (Dense)             (None, 64)                4160      \n",
            "                                                                 \n",
            " dense_3 (Dense)             (None, 5)                 325       \n",
            "                                                                 \n",
            "=================================================================\n",
            "Total params: 28069 (109.64 KB)\n",
            "Trainable params: 28069 (109.64 KB)\n",
            "Non-trainable params: 0 (0.00 Byte)\n",
            "_________________________________________________________________\n"
          ]
        }
      ],
      "source": [
        "from keras.models import Sequential\n",
        "from keras.layers import Conv2D, MaxPooling2D, GlobalAveragePooling2D, Dense\n",
        "\n",
        "# Criação do modelo\n",
        "model = Sequential()\n",
        "\n",
        "# Adicionando camadas à rede neural\n",
        "model.add(Conv2D(16, (3, 3), strides=(1, 1), padding='same', activation='relu', input_shape=(64, 64, 3)))\n",
        "print(\"Saída da Camada 2:\", model.output_shape)  # Adicionado para imprimir o shape\n",
        "\n",
        "model.add(MaxPooling2D(pool_size=(2, 2), strides=(2, 2)))\n",
        "print(\"Saída da Camada 4:\", model.output_shape)  # Adicionado para imprimir o shape\n",
        "\n",
        "model.add(Conv2D(32, (3, 3), strides=(2, 2), padding='same', activation='relu'))\n",
        "model.add(Conv2D(64, (3, 3), strides=(1, 1), padding='valid', activation='relu'))\n",
        "print(\"Saída da Camada 5:\", model.output_shape)  # Adicionado para imprimir o shape\n",
        "\n",
        "model.add(GlobalAveragePooling2D())\n",
        "model.add(Dense(64, activation='relu'))\n",
        "print(\"Saída da Camada 7:\", model.output_shape)  # Adicionado para imprimir o shape\n",
        "\n",
        "model.add(Dense(5, activation='softmax'))\n",
        "\n",
        "# Compilação do modelo\n",
        "model.compile(optimizer='adam', loss='categorical_crossentropy', metrics=['accuracy'])\n",
        "\n",
        "# Resumo da arquitetura da rede\n",
        "model.summary()\n"
      ]
    }
  ]
}