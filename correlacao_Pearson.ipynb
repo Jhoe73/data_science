{
  "cells": [
    {
      "cell_type": "markdown",
      "metadata": {
        "id": "view-in-github",
        "colab_type": "text"
      },
      "source": [
        "<a href=\"https://colab.research.google.com/github/Jhoe73/data_science/blob/main/correlacao_Pearson.ipynb\" target=\"_parent\"><img src=\"https://colab.research.google.com/assets/colab-badge.svg\" alt=\"Open In Colab\"/></a>"
      ]
    },
    {
      "cell_type": "markdown",
      "id": "da24a8ec",
      "metadata": {
        "id": "da24a8ec"
      },
      "source": [
        "# Coeficiente de Correlação de Pearson"
      ]
    },
    {
      "cell_type": "code",
      "execution_count": 1,
      "id": "51186bfc",
      "metadata": {
        "colab": {
          "base_uri": "https://localhost:8080/"
        },
        "id": "51186bfc",
        "outputId": "c485fe78-dfaa-4f71-cdc2-6dca43932875"
      },
      "outputs": [
        {
          "output_type": "stream",
          "name": "stdout",
          "text": [
            "x é [1, 2, 3, 4, 5, 6, 7, 8, 9, 10]\n",
            "média 5.5\n",
            "desvio padrão 3.0276503540974917\n"
          ]
        }
      ],
      "source": [
        "import numpy as np\n",
        "import random\n",
        "import statistics\n",
        "from matplotlib import pyplot\n",
        "import scipy.stats\n",
        "\n",
        "# Gerando valores de 1 a 10\n",
        "x = list(range(1,11))\n",
        "print(\"x é\", x)\n",
        "\n",
        "# Média\n",
        "a=statistics.mean(x)\n",
        "print(\"média\", a)\n",
        "\n",
        "# Standard Deviation (Desvio Padrão)\n",
        "b=statistics.stdev(x)\n",
        "print(\"desvio padrão\", b)"
      ]
    },
    {
      "cell_type": "code",
      "execution_count": 2,
      "id": "9eb47dc2",
      "metadata": {
        "colab": {
          "base_uri": "https://localhost:8080/"
        },
        "id": "9eb47dc2",
        "outputId": "5bdeea1e-feec-4606-aaf4-a458cba8b976"
      },
      "outputs": [
        {
          "output_type": "stream",
          "name": "stdout",
          "text": [
            "y é [ 0.79529234  2.47894334  2.48056128  3.4442697   6.96578057  7.39340583\n",
            "  7.09290788  8.28174615  9.76902257 11.24643474]\n"
          ]
        }
      ],
      "source": [
        "# Adicionando um fator randomico aos numeros existentes em x\n",
        "np.random.seed(12345)\n",
        "y=x+np.random.normal(0, 1, 10)\n",
        "print(\"y é\", y)"
      ]
    },
    {
      "cell_type": "code",
      "execution_count": 3,
      "id": "8ee134ea",
      "metadata": {
        "colab": {
          "base_uri": "https://localhost:8080/",
          "height": 448
        },
        "id": "8ee134ea",
        "outputId": "0cbe7950-a751-4027-8dfe-5ebc8c8dbd55"
      },
      "outputs": [
        {
          "output_type": "execute_result",
          "data": {
            "text/plain": [
              "<matplotlib.collections.PathCollection at 0x7bc65f1b7be0>"
            ]
          },
          "metadata": {},
          "execution_count": 3
        },
        {
          "output_type": "display_data",
          "data": {
            "text/plain": [
              "<Figure size 640x480 with 1 Axes>"
            ],
            "image/png": "[encoded data removed]"
          },
          "metadata": {}
        }
      ],
      "source": [
        "# Plotando os dados para ver relacionamento entre x e y\n",
        "pyplot.scatter(x, y)"
      ]
    },
    {
      "cell_type": "code",
      "execution_count": 4,
      "id": "b8163db0",
      "metadata": {
        "colab": {
          "base_uri": "https://localhost:8080/"
        },
        "id": "b8163db0",
        "outputId": "99236eb6-421e-40b8-bab9-485dcd20f4f6"
      },
      "outputs": [
        {
          "output_type": "stream",
          "name": "stdout",
          "text": [
            "correlação e valor p: PearsonRResult(statistic=0.9760856176393808, pvalue=1.3902623012816696e-06)\n"
          ]
        }
      ],
      "source": [
        "# Correlação entre x e y\n",
        "c=scipy.stats.pearsonr(x, y)\n",
        "print(\"correlação e valor p:\", c)"
      ]
    },
    {
      "cell_type": "markdown",
      "source": [
        "A correlação de Pearson é uma medida estatística que expressa o grau de relação linear entre duas variáveis quantitativas. Ela varia de -1 a 1, onde:\n",
        "\n",
        "- **1** indica uma correlação perfeitamente positiva (quando uma variável aumenta, a outra também aumenta em proporção direta),\n",
        "- **-1** indica uma correlação perfeitamente negativa (quando uma variável aumenta, a outra diminui em proporção direta),\n",
        "- **0** indica que não há correlação linear entre as variáveis.\n",
        "\n",
        "A fórmula para calcular a correlação de Pearson, \\(r\\), entre duas variáveis \\(X\\) e \\(Y\\), com \\(n\\) observações cada, é:\n",
        "\n",
        "$$\n",
        "r = \\frac{\\sum_{i=1}^{n} (X_i - \\overline{X})(Y_i - \\overline{Y})}{\\sqrt{\\sum_{i=1}^{n}(X_i - \\overline{X})^2}\\sqrt{\\sum_{i=1}^{n}(Y_i - \\overline{Y})^2}}\n",
        "$$\n",
        "\n",
        "onde:\n",
        "\n",
        "- \\($X_i$\\) e \\($Y_i$\\) são os valores individuais das variáveis \\($X$\\) e \\($Y$\\),\n",
        "- \\($\\overline{X}$) e ($\\overline{Y}$) são as médias de \\($X$\\) e \\($Y$\\), respectivamente,\n",
        "- \\($n$\\) é o número de observações (pares de valores \\($X_i$\\), \\($Y_i$\\)).\n",
        "\n",
        "Aqui está o que acontece em cada parte da fórmula:\n",
        "\n",
        "- **Numerador**: A soma dos produtos dos desvios de cada valor de sua média $((X_i - \\overline{X})$ e $(Y_i - \\overline{Y}))$ para todas as observações. Isso mede a covariância entre $(X)$ e $(Y)$, ou seja, como $(X)$ e $(Y)$ variam juntos.\n",
        "- **Denominador**: O produto das raízes quadradas das somas dos quadrados dos desvios de cada valor de sua média. Isso normaliza a covariância, permitindo que o valor resultante da correlação varie entre -1 e 1. Ele efetivamente ajusta a escala, considerando a variação de cada variável.\n",
        "\n",
        "A correlação de Pearson é mais apropriada quando ambos os conjuntos de dados têm uma distribuição aproximadamente normal e a relação entre as variáveis é linear. Se as suposições de normalidade e linearidade não forem atendidas, outras medidas de correlação, como a correlação de Spearman (não tem pressupostos lineares como na correlação de Pearson), podem ser mais adequadas."
      ],
      "metadata": {
        "id": "FIQ_0nHrtwFz"
      },
      "id": "FIQ_0nHrtwFz"
    }
  ],
  "metadata": {
    "kernelspec": {
      "display_name": "Python 3 (ipykernel)",
      "language": "python",
      "name": "python3"
    },
    "language_info": {
      "codemirror_mode": {
        "name": "ipython",
        "version": 3
      },
      "file_extension": ".py",
      "mimetype": "text/x-python",
      "name": "python",
      "nbconvert_exporter": "python",
      "pygments_lexer": "ipython3",
      "version": "3.11.5"
    },
    "colab": {
      "provenance": [],
      "include_colab_link": true
    }
  },
  "nbformat": 4,
  "nbformat_minor": 5
}