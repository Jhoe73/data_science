{
  "cells": [
    {
      "cell_type": "markdown",
      "metadata": {
        "id": "view-in-github",
        "colab_type": "text"
      },
      "source": [
        "<a href=\"https://colab.research.google.com/github/Jhoe73/data_science/blob/main/regressao_logistica_titanic.ipynb\" target=\"_parent\"><img src=\"https://colab.research.google.com/assets/colab-badge.svg\" alt=\"Open In Colab\"/></a>"
      ]
    },
    {
      "cell_type": "code",
      "execution_count": null,
      "metadata": {
        "id": "x-cDnIVOThYg",
        "outputId": "8f8d2551-b06d-46c0-9fd0-cdc5eb40cbbc"
      },
      "outputs": [
        {
          "data": {
            "text/html": [
              "<div>\n",
              "<style scoped>\n",
              "    .dataframe tbody tr th:only-of-type {\n",
              "        vertical-align: middle;\n",
              "    }\n",
              "\n",
              "    .dataframe tbody tr th {\n",
              "        vertical-align: top;\n",
              "    }\n",
              "\n",
              "    .dataframe thead th {\n",
              "        text-align: right;\n",
              "    }\n",
              "</style>\n",
              "<table border=\"1\" class=\"dataframe\">\n",
              "  <thead>\n",
              "    <tr style=\"text-align: right;\">\n",
              "      <th></th>\n",
              "      <th>Survived</th>\n",
              "      <th>Pclass</th>\n",
              "      <th>Name</th>\n",
              "      <th>Sex</th>\n",
              "      <th>Age</th>\n",
              "      <th>Siblings/Spouses Aboard</th>\n",
              "      <th>Parents/Children Aboard</th>\n",
              "      <th>Fare</th>\n",
              "    </tr>\n",
              "  </thead>\n",
              "  <tbody>\n",
              "    <tr>\n",
              "      <th>0</th>\n",
              "      <td>0</td>\n",
              "      <td>3</td>\n",
              "      <td>Mr. Owen Harris Braund</td>\n",
              "      <td>male</td>\n",
              "      <td>22.0</td>\n",
              "      <td>1</td>\n",
              "      <td>0</td>\n",
              "      <td>7.2500</td>\n",
              "    </tr>\n",
              "    <tr>\n",
              "      <th>1</th>\n",
              "      <td>1</td>\n",
              "      <td>1</td>\n",
              "      <td>Mrs. John Bradley (Florence Briggs Thayer) Cum...</td>\n",
              "      <td>female</td>\n",
              "      <td>38.0</td>\n",
              "      <td>1</td>\n",
              "      <td>0</td>\n",
              "      <td>71.2833</td>\n",
              "    </tr>\n",
              "    <tr>\n",
              "      <th>2</th>\n",
              "      <td>1</td>\n",
              "      <td>3</td>\n",
              "      <td>Miss. Laina Heikkinen</td>\n",
              "      <td>female</td>\n",
              "      <td>26.0</td>\n",
              "      <td>0</td>\n",
              "      <td>0</td>\n",
              "      <td>7.9250</td>\n",
              "    </tr>\n",
              "    <tr>\n",
              "      <th>3</th>\n",
              "      <td>1</td>\n",
              "      <td>1</td>\n",
              "      <td>Mrs. Jacques Heath (Lily May Peel) Futrelle</td>\n",
              "      <td>female</td>\n",
              "      <td>35.0</td>\n",
              "      <td>1</td>\n",
              "      <td>0</td>\n",
              "      <td>53.1000</td>\n",
              "    </tr>\n",
              "    <tr>\n",
              "      <th>4</th>\n",
              "      <td>0</td>\n",
              "      <td>3</td>\n",
              "      <td>Mr. William Henry Allen</td>\n",
              "      <td>male</td>\n",
              "      <td>35.0</td>\n",
              "      <td>0</td>\n",
              "      <td>0</td>\n",
              "      <td>8.0500</td>\n",
              "    </tr>\n",
              "  </tbody>\n",
              "</table>\n",
              "</div>"
            ],
            "text/plain": [
              "   Survived  Pclass                                               Name  \\\n",
              "0         0       3                             Mr. Owen Harris Braund   \n",
              "1         1       1  Mrs. John Bradley (Florence Briggs Thayer) Cum...   \n",
              "2         1       3                              Miss. Laina Heikkinen   \n",
              "3         1       1        Mrs. Jacques Heath (Lily May Peel) Futrelle   \n",
              "4         0       3                            Mr. William Henry Allen   \n",
              "\n",
              "      Sex   Age  Siblings/Spouses Aboard  Parents/Children Aboard     Fare  \n",
              "0    male  22.0                        1                        0   7.2500  \n",
              "1  female  38.0                        1                        0  71.2833  \n",
              "2  female  26.0                        0                        0   7.9250  \n",
              "3  female  35.0                        1                        0  53.1000  \n",
              "4    male  35.0                        0                        0   8.0500  "
            ]
          },
          "execution_count": 3,
          "metadata": {},
          "output_type": "execute_result"
        }
      ],
      "source": [
        "import pandas as pd\n",
        "import statsmodels.api as sm\n",
        "\n",
        "# Carrega o dataset\n",
        "file_path = 'titanic.csv'\n",
        "titanic_data = pd.read_csv(file_path)\n",
        "\n",
        "# Estrutura do Dataset\n",
        "titanic_data.head()"
      ]
    },
    {
      "cell_type": "code",
      "execution_count": null,
      "metadata": {
        "id": "AYhoGgwiThYj",
        "outputId": "217222da-4b08-44a5-ef61-5dd0b40c2798"
      },
      "outputs": [
        {
          "name": "stdout",
          "output_type": "stream",
          "text": [
            "Optimization terminated successfully.\n",
            "         Current function value: 0.441305\n",
            "         Iterations 6\n"
          ]
        },
        {
          "name": "stderr",
          "output_type": "stream",
          "text": [
            "C:\\Users\\Jhoe\\AppData\\Local\\Temp\\ipykernel_15604\\2247822361.py:10: SettingWithCopyWarning: \n",
            "A value is trying to be set on a copy of a slice from a DataFrame\n",
            "\n",
            "See the caveats in the documentation: https://pandas.pydata.org/pandas-docs/stable/user_guide/indexing.html#returning-a-view-versus-a-copy\n",
            "  X['Age'].fillna(X['Age'].mean(), inplace=True)\n"
          ]
        },
        {
          "data": {
            "text/html": [
              "<table class=\"simpletable\">\n",
              "<caption>Logit Regression Results</caption>\n",
              "<tr>\n",
              "  <th>Dep. Variable:</th>       <td>Survived</td>     <th>  No. Observations:  </th>  <td>   887</td>  \n",
              "</tr>\n",
              "<tr>\n",
              "  <th>Model:</th>                 <td>Logit</td>      <th>  Df Residuals:      </th>  <td>   882</td>  \n",
              "</tr>\n",
              "<tr>\n",
              "  <th>Method:</th>                 <td>MLE</td>       <th>  Df Model:          </th>  <td>     4</td>  \n",
              "</tr>\n",
              "<tr>\n",
              "  <th>Date:</th>            <td>Sun, 04 Feb 2024</td> <th>  Pseudo R-squ.:     </th>  <td>0.3381</td>  \n",
              "</tr>\n",
              "<tr>\n",
              "  <th>Time:</th>                <td>23:17:18</td>     <th>  Log-Likelihood:    </th> <td> -391.44</td> \n",
              "</tr>\n",
              "<tr>\n",
              "  <th>converged:</th>             <td>True</td>       <th>  LL-Null:           </th> <td> -591.38</td> \n",
              "</tr>\n",
              "<tr>\n",
              "  <th>Covariance Type:</th>     <td>nonrobust</td>    <th>  LLR p-value:       </th> <td>2.932e-85</td>\n",
              "</tr>\n",
              "</table>\n",
              "<table class=\"simpletable\">\n",
              "<tr>\n",
              "             <td></td>                <th>coef</th>     <th>std err</th>      <th>z</th>      <th>P>|z|</th>  <th>[0.025</th>    <th>0.975]</th>  \n",
              "</tr>\n",
              "<tr>\n",
              "  <th>const</th>                   <td>    2.7956</td> <td>    0.450</td> <td>    6.215</td> <td> 0.000</td> <td>    1.914</td> <td>    3.677</td>\n",
              "</tr>\n",
              "<tr>\n",
              "  <th>Pclass</th>                  <td>   -1.2651</td> <td>    0.127</td> <td>   -9.960</td> <td> 0.000</td> <td>   -1.514</td> <td>   -1.016</td>\n",
              "</tr>\n",
              "<tr>\n",
              "  <th>Age</th>                     <td>   -0.0437</td> <td>    0.008</td> <td>   -5.679</td> <td> 0.000</td> <td>   -0.059</td> <td>   -0.029</td>\n",
              "</tr>\n",
              "<tr>\n",
              "  <th>Siblings/Spouses Aboard</th> <td>   -0.4078</td> <td>    0.105</td> <td>   -3.876</td> <td> 0.000</td> <td>   -0.614</td> <td>   -0.202</td>\n",
              "</tr>\n",
              "<tr>\n",
              "  <th>Sex</th>                     <td>    2.7365</td> <td>    0.196</td> <td>   13.981</td> <td> 0.000</td> <td>    2.353</td> <td>    3.120</td>\n",
              "</tr>\n",
              "</table>"
            ],
            "text/latex": [
              "\\begin{center}\n",
              "\\begin{tabular}{lclc}\n",
              "\\toprule\n",
              "\\textbf{Dep. Variable:}          &     Survived     & \\textbf{  No. Observations:  } &      887    \\\\\n",
              "\\textbf{Model:}                  &      Logit       & \\textbf{  Df Residuals:      } &      882    \\\\\n",
              "\\textbf{Method:}                 &       MLE        & \\textbf{  Df Model:          } &        4    \\\\\n",
              "\\textbf{Date:}                   & Sun, 04 Feb 2024 & \\textbf{  Pseudo R-squ.:     } &   0.3381    \\\\\n",
              "\\textbf{Time:}                   &     23:17:18     & \\textbf{  Log-Likelihood:    } &   -391.44   \\\\\n",
              "\\textbf{converged:}              &       True       & \\textbf{  LL-Null:           } &   -591.38   \\\\\n",
              "\\textbf{Covariance Type:}        &    nonrobust     & \\textbf{  LLR p-value:       } & 2.932e-85   \\\\\n",
              "\\bottomrule\n",
              "\\end{tabular}\n",
              "\\begin{tabular}{lcccccc}\n",
              "                                 & \\textbf{coef} & \\textbf{std err} & \\textbf{z} & \\textbf{P$> |$z$|$} & \\textbf{[0.025} & \\textbf{0.975]}  \\\\\n",
              "\\midrule\n",
              "\\textbf{const}                   &       2.7956  &        0.450     &     6.215  &         0.000        &        1.914    &        3.677     \\\\\n",
              "\\textbf{Pclass}                  &      -1.2651  &        0.127     &    -9.960  &         0.000        &       -1.514    &       -1.016     \\\\\n",
              "\\textbf{Age}                     &      -0.0437  &        0.008     &    -5.679  &         0.000        &       -0.059    &       -0.029     \\\\\n",
              "\\textbf{Siblings/Spouses Aboard} &      -0.4078  &        0.105     &    -3.876  &         0.000        &       -0.614    &       -0.202     \\\\\n",
              "\\textbf{Sex}                     &       2.7365  &        0.196     &    13.981  &         0.000        &        2.353    &        3.120     \\\\\n",
              "\\bottomrule\n",
              "\\end{tabular}\n",
              "%\\caption{Logit Regression Results}\n",
              "\\end{center}"
            ],
            "text/plain": [
              "<class 'statsmodels.iolib.summary.Summary'>\n",
              "\"\"\"\n",
              "                           Logit Regression Results                           \n",
              "==============================================================================\n",
              "Dep. Variable:               Survived   No. Observations:                  887\n",
              "Model:                          Logit   Df Residuals:                      882\n",
              "Method:                           MLE   Df Model:                            4\n",
              "Date:                Sun, 04 Feb 2024   Pseudo R-squ.:                  0.3381\n",
              "Time:                        23:17:18   Log-Likelihood:                -391.44\n",
              "converged:                       True   LL-Null:                       -591.38\n",
              "Covariance Type:            nonrobust   LLR p-value:                 2.932e-85\n",
              "===========================================================================================\n",
              "                              coef    std err          z      P>|z|      [0.025      0.975]\n",
              "-------------------------------------------------------------------------------------------\n",
              "const                       2.7956      0.450      6.215      0.000       1.914       3.677\n",
              "Pclass                     -1.2651      0.127     -9.960      0.000      -1.514      -1.016\n",
              "Age                        -0.0437      0.008     -5.679      0.000      -0.059      -0.029\n",
              "Siblings/Spouses Aboard    -0.4078      0.105     -3.876      0.000      -0.614      -0.202\n",
              "Sex                         2.7365      0.196     13.981      0.000       2.353       3.120\n",
              "===========================================================================================\n",
              "\"\"\""
            ]
          },
          "execution_count": 4,
          "metadata": {},
          "output_type": "execute_result"
        }
      ],
      "source": [
        "# Preparando os dados\n",
        "# Convertendo a variável 'Sex' em uma variável dummy\n",
        "titanic_data['Sex'] = titanic_data['Sex'].map({'male': 0, 'female': 1})\n",
        "\n",
        "# Definindo as variáveis independentes e a variável dependente\n",
        "X = titanic_data[['Pclass', 'Age', 'Siblings/Spouses Aboard', 'Sex']]\n",
        "y = titanic_data['Survived']\n",
        "\n",
        "# Lidando com valores faltantes em 'Age'\n",
        "X['Age'].fillna(X['Age'].mean(), inplace=True)\n",
        "\n",
        "# Adicionando uma constante ao modelo\n",
        "X = sm.add_constant(X)\n",
        "\n",
        "# Ajustando o modelo de regressão logística\n",
        "model = sm.Logit(y, X)\n",
        "result = model.fit()\n",
        "\n",
        "# Exibindo os resultados\n",
        "result.summary()"
      ]
    },
    {
      "cell_type": "markdown",
      "metadata": {
        "id": "ZqZ91XgXThYl"
      },
      "source": [
        "* **\"Quanto maior classe do bilhete, menor chance de sobreviver ao naufrágio\"** - O coeficiente para a classe do bilhete (Pclass) foi de -1,265, o que indica que quanto maior a classe (com 1 sendo a mais alta e 3 a mais baixa), menor é a chance de sobrevivência.\n",
        "\n",
        "* **\"Quanto menor a idade, maior chance de sobreviver ao naufrágio\"** - O coeficiente para a idade foi de -0,044, indicando que pessoas mais jovens tinham ligeiramente mais chances de sobreviver\n",
        "\n",
        "* **\"Quanto mais parentes presentes no navio, menor chance de sobreviver ao naufrágio\"** - O coeficiente para a variável de parentes presentes no navio foi de -0,408. Isso sugere que quanto mais parentes a bordo, menor a chance de sobrevivência."
      ]
    }
  ],
  "metadata": {
    "kernelspec": {
      "display_name": "Python 3",
      "language": "python",
      "name": "python3"
    },
    "language_info": {
      "codemirror_mode": {
        "name": "ipython",
        "version": 3
      },
      "file_extension": ".py",
      "mimetype": "text/x-python",
      "name": "python",
      "nbconvert_exporter": "python",
      "pygments_lexer": "ipython3",
      "version": "3.12.0"
    },
    "colab": {
      "provenance": [],
      "include_colab_link": true
    }
  },
  "nbformat": 4,
  "nbformat_minor": 0
}