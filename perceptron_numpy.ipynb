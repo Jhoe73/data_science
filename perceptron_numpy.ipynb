{
  "cells": [
    {
      "cell_type": "markdown",
      "metadata": {
        "id": "view-in-github",
        "colab_type": "text"
      },
      "source": [
        "<a href=\"https://colab.research.google.com/github/Jhoe73/data_science/blob/main/perceptron_numpy.ipynb\" target=\"_parent\"><img src=\"https://colab.research.google.com/assets/colab-badge.svg\" alt=\"Open In Colab\"/></a>"
      ]
    },
    {
      "cell_type": "markdown",
      "metadata": {
        "id": "eeNjsbThxENq"
      },
      "source": [
        "## Importação de bilbiotecas e definição das funções\n",
        "#### (foward, backward e ativação)"
      ]
    },
    {
      "cell_type": "code",
      "execution_count": null,
      "metadata": {
        "id": "UcHWj1cJvrTw"
      },
      "outputs": [],
      "source": [
        "import numpy as np"
      ]
    },
    {
      "cell_type": "code",
      "execution_count": null,
      "metadata": {
        "id": "PnCaVVlaxoiZ"
      },
      "outputs": [],
      "source": [
        "def ativacao(v):\n",
        "  v = np.array(v >= 0, dtype=int)\n",
        "  v[v==0] = -1\n",
        "  return v\n",
        "\n",
        "def forward(x, w, b):\n",
        "  v = np.dot(w.T,x) + b\n",
        "  return ativacao(v)"
      ]
    },
    {
      "cell_type": "code",
      "execution_count": null,
      "metadata": {
        "id": "EJcDjCKn3dQX"
      },
      "outputs": [],
      "source": [
        "def backward(x, y, w, b, lr):\n",
        "  e = y - forward(w, x, b)\n",
        "\n",
        "  delta_w = lr * (e * x)\n",
        "  delta_b = lr * (e * -1)\n",
        "\n",
        "  return w + delta_w, b + delta_b"
      ]
    },
    {
      "cell_type": "markdown",
      "metadata": {
        "id": "9XP5VGazxUFE"
      },
      "source": [
        "## Definição de hiper-parâmetros"
      ]
    },
    {
      "cell_type": "code",
      "execution_count": null,
      "metadata": {
        "id": "3EVqE3UZ2epO"
      },
      "outputs": [],
      "source": [
        "w = np.array([0.4, 0.5, 0.6])\n",
        "b = 0.5\n",
        "lr = 0.4\n",
        "\n",
        "x = np.array([[0, 0, 1],\n",
        "             [1, 0, 1]]).T\n",
        "\n",
        "y = [-1, 1]"
      ]
    },
    {
      "cell_type": "markdown",
      "metadata": {
        "id": "pYaXW8GmxgAF"
      },
      "source": [
        "## Treinamento/utilização do neurônio"
      ]
    },
    {
      "cell_type": "code",
      "execution_count": null,
      "metadata": {
        "id": "2vMEKygv4KGA",
        "outputId": "7a6bd071-ef6f-4ef6-a5ad-ff6d7c893014"
      },
      "outputs": [
        {
          "name": "stdout",
          "output_type": "stream",
          "text": [
            "Epoca 0\n",
            "Epoca 1\n",
            "Epoca 2\n",
            "Epoca 3\n",
            "Epoca 4\n",
            "Epoca 5\n",
            "Epoca 6\n",
            "Epoca 7\n",
            "Epoca 8\n",
            "Epoca 9\n"
          ]
        }
      ],
      "source": [
        "max_epochs = 10\n",
        "for epoch in range(max_epochs):\n",
        "  print('Epoca ' + str(epoch))\n",
        "\n",
        "  for i in range(x.shape[1]):\n",
        "    w, b = backward(x[:,i], y[i], w, b, lr)\n"
      ]
    },
    {
      "cell_type": "code",
      "execution_count": null,
      "metadata": {
        "id": "BFNATUcZ97Kb",
        "outputId": "c2cebf95-72c3-43ca-fda7-7d2e88cce130"
      },
      "outputs": [
        {
          "name": "stdout",
          "output_type": "stream",
          "text": [
            "[ 0.4  0.5 -7.4]\n",
            "8.5\n"
          ]
        }
      ],
      "source": [
        "print(w)\n",
        "print(b)"
      ]
    }
  ],
  "metadata": {
    "colab": {
      "provenance": [],
      "toc_visible": true,
      "include_colab_link": true
    },
    "kernelspec": {
      "display_name": "Python 3",
      "name": "python3"
    },
    "language_info": {
      "codemirror_mode": {
        "name": "ipython",
        "version": 3
      },
      "file_extension": ".py",
      "mimetype": "text/x-python",
      "name": "python",
      "nbconvert_exporter": "python",
      "pygments_lexer": "ipython3",
      "version": "3.12.0"
    }
  },
  "nbformat": 4,
  "nbformat_minor": 0
}